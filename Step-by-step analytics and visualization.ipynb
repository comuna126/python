{
 "cells": [
  {
   "cell_type": "markdown",
   "metadata": {},
   "source": [
    "# Instacart Data Science Challenge\n",
    "Jamie Liu\n",
    "\n",
    "### Major Steps:\n",
    "* Import Data\n",
    "* Adjust to Local Timezone\n",
    "* Data Cleaning\n",
    "    * Check NULL values\n",
    "    * Check if/where duplicate records exist\n",
    "* Feature Extraction\n",
    "* EDA\n",
    "    * Explore data to get basic insights\n",
    "    * Time of day analysis on deliveries\n",
    "    * Day of week analysis on deliveries\n",
    "    * Most common problems with orders\n",
    "* Deep Dives and Recommendations\n",
    "    * Issue Type vs. Rating: What Upsets Customers The Most?\n",
    "    * Make assumptions and calculate Issue-Ticket Ratio: 85%\n",
    "    * Map out peak hours as guidance for customer service reps on work shifts planning"
   ]
  },
  {
   "cell_type": "code",
   "execution_count": 1046,
   "metadata": {},
   "outputs": [],
   "source": [
    "from datetime import datetime\n",
    "import pytz\n",
    "from dateutil import tz\n",
    "import os\n",
    "import numpy as np\n",
    "import pandas as pd\n",
    "import warnings\n",
    "import seaborn as sns\n",
    "import matplotlib.pyplot as plt\n",
    "%matplotlib inline\n",
    "warnings.filterwarnings('ignore')"
   ]
  },
  {
   "cell_type": "markdown",
   "metadata": {},
   "source": [
    "## Import Data"
   ]
  },
  {
   "cell_type": "code",
   "execution_count": 1047,
   "metadata": {},
   "outputs": [],
   "source": [
    "path = os.getcwd()\n",
    "ins = pd.read_csv(path+'/ins.csv')"
   ]
  },
  {
   "cell_type": "code",
   "execution_count": 1048,
   "metadata": {},
   "outputs": [
    {
     "data": {
      "text/html": [
       "<div>\n",
       "<style scoped>\n",
       "    .dataframe tbody tr th:only-of-type {\n",
       "        vertical-align: middle;\n",
       "    }\n",
       "\n",
       "    .dataframe tbody tr th {\n",
       "        vertical-align: top;\n",
       "    }\n",
       "\n",
       "    .dataframe thead th {\n",
       "        text-align: right;\n",
       "    }\n",
       "</style>\n",
       "<table border=\"1\" class=\"dataframe\">\n",
       "  <thead>\n",
       "    <tr style=\"text-align: right;\">\n",
       "      <th></th>\n",
       "      <th>order delivery time</th>\n",
       "      <th>order id</th>\n",
       "      <th>customer order rating</th>\n",
       "      <th>type of issue reported</th>\n",
       "      <th>region</th>\n",
       "    </tr>\n",
       "  </thead>\n",
       "  <tbody>\n",
       "    <tr>\n",
       "      <th>0</th>\n",
       "      <td>2014-06-02 04:23:16 UTC</td>\n",
       "      <td>233599337</td>\n",
       "      <td>5</td>\n",
       "      <td>NaN</td>\n",
       "      <td>chi</td>\n",
       "    </tr>\n",
       "    <tr>\n",
       "      <th>1</th>\n",
       "      <td>2014-06-02 03:57:50 UTC</td>\n",
       "      <td>233599376</td>\n",
       "      <td>5</td>\n",
       "      <td>NaN</td>\n",
       "      <td>chi</td>\n",
       "    </tr>\n",
       "    <tr>\n",
       "      <th>2</th>\n",
       "      <td>2014-06-02 02:52:38 UTC</td>\n",
       "      <td>233599328</td>\n",
       "      <td>5</td>\n",
       "      <td>NaN</td>\n",
       "      <td>chi</td>\n",
       "    </tr>\n",
       "  </tbody>\n",
       "</table>\n",
       "</div>"
      ],
      "text/plain": [
       "       order delivery time   order id  customer order rating  \\\n",
       "0  2014-06-02 04:23:16 UTC  233599337                      5   \n",
       "1  2014-06-02 03:57:50 UTC  233599376                      5   \n",
       "2  2014-06-02 02:52:38 UTC  233599328                      5   \n",
       "\n",
       "  type of issue reported region  \n",
       "0                    NaN    chi  \n",
       "1                    NaN    chi  \n",
       "2                    NaN    chi  "
      ]
     },
     "execution_count": 1048,
     "metadata": {},
     "output_type": "execute_result"
    }
   ],
   "source": [
    "ins.head(3)"
   ]
  },
  {
   "cell_type": "markdown",
   "metadata": {},
   "source": [
    "## Adjust to Local Timezone"
   ]
  },
  {
   "cell_type": "code",
   "execution_count": 1049,
   "metadata": {},
   "outputs": [],
   "source": [
    "chi = ins[ins['region'].str.strip() == 'chi']\n",
    "sf = ins[ins['region'].str.strip() == 'sf']\n",
    "nyc = ins[ins['region'].str.strip() == 'nyc']\n",
    "\n",
    "sf['region'] = sf['region'].str.strip()\n",
    "sf['order delivery time'] = [x.replace(\"+0000\",\"UTC\") for x in sf['order delivery time']]\n",
    "\n",
    "chi['order delivery time'] = pd.to_datetime(chi['order delivery time'])\n",
    "nyc['order delivery time'] = pd.to_datetime(nyc['order delivery time'])\n",
    "sf['order delivery time'] = pd.to_datetime(sf['order delivery time'])\n",
    "\n",
    "chi['order delivery time']=chi['order delivery time'].dt.tz_localize('utc').dt.tz_convert('America/Chicago')\n",
    "sf['order delivery time']=sf['order delivery time'].dt.tz_localize('utc').dt.tz_convert('US/Pacific')\n",
    "nyc['order delivery time']=nyc['order delivery time'].dt.tz_localize('utc').dt.tz_convert('America/New_York')\n",
    "\n",
    "chi['order delivery time'] = chi['order delivery time'].astype(str).str[:-6]\n",
    "sf['order delivery time'] = sf['order delivery time'].astype(str).str[:-6]\n",
    "nyc['order delivery time'] = nyc['order delivery time'].astype(str).str[:-6]"
   ]
  },
  {
   "cell_type": "code",
   "execution_count": 1050,
   "metadata": {},
   "outputs": [],
   "source": [
    "ins = pd.concat([chi, sf, nyc])"
   ]
  },
  {
   "cell_type": "markdown",
   "metadata": {},
   "source": [
    "## Data Cleaning\n",
    "### Check null values:\n",
    "##### Only keep rows with at least 3 non-null values"
   ]
  },
  {
   "cell_type": "code",
   "execution_count": 1051,
   "metadata": {},
   "outputs": [
    {
     "name": "stdout",
     "output_type": "stream",
     "text": [
      "<class 'pandas.core.frame.DataFrame'>\n",
      "Int64Index: 14957 entries, 0 to 14940\n",
      "Data columns (total 5 columns):\n",
      "order delivery time       14957 non-null object\n",
      "order id                  14957 non-null int64\n",
      "customer order rating     14957 non-null int64\n",
      "type of issue reported    1087 non-null object\n",
      "region                    14957 non-null object\n",
      "dtypes: int64(2), object(3)\n",
      "memory usage: 701.1+ KB\n"
     ]
    }
   ],
   "source": [
    "ins.dropna(thresh=3)\n",
    "ins.info()"
   ]
  },
  {
   "cell_type": "markdown",
   "metadata": {},
   "source": [
    "##### The above table shows that \"types of issue reported\" is populated by 7%, meaning ~7% of orders are reported to have problems\n",
    "##### Interestingly, every order has a customer rating, which is not likely. This could actually indicate that customers who did not rate end up counted as 5-star rating after a while. Therefore, a rating of 5 might not be as accurate/indicative of customer satisfaction as stars 1~4."
   ]
  },
  {
   "cell_type": "markdown",
   "metadata": {},
   "source": [
    "### Check if/where duplicate records exist:\n",
    "##### Discovered duplicate orders (order id, order delivery time)"
   ]
  },
  {
   "cell_type": "code",
   "execution_count": 1052,
   "metadata": {},
   "outputs": [
    {
     "data": {
      "text/plain": [
       "order delivery time       14600\n",
       "order id                  13845\n",
       "customer order rating         6\n",
       "type of issue reported        7\n",
       "region                        3\n",
       "dtype: int64"
      ]
     },
     "execution_count": 1052,
     "metadata": {},
     "output_type": "execute_result"
    }
   ],
   "source": [
    "ins.nunique()"
   ]
  },
  {
   "cell_type": "markdown",
   "metadata": {},
   "source": [
    "###### The table above shows 6 unique types of customer ratings instead of 5. This is because there are \"0\"s as ratings. We will look further in the EDA process later."
   ]
  },
  {
   "cell_type": "code",
   "execution_count": 1053,
   "metadata": {},
   "outputs": [
    {
     "data": {
      "text/plain": [
       "5    11602\n",
       "4     1680\n",
       "3      778\n",
       "1      373\n",
       "2      370\n",
       "0      154\n",
       "Name: customer order rating, dtype: int64"
      ]
     },
     "execution_count": 1053,
     "metadata": {},
     "output_type": "execute_result"
    }
   ],
   "source": [
    "ins['customer order rating'].value_counts()"
   ]
  },
  {
   "cell_type": "code",
   "execution_count": 1054,
   "metadata": {},
   "outputs": [
    {
     "data": {
      "text/html": [
       "<div>\n",
       "<style scoped>\n",
       "    .dataframe tbody tr th:only-of-type {\n",
       "        vertical-align: middle;\n",
       "    }\n",
       "\n",
       "    .dataframe tbody tr th {\n",
       "        vertical-align: top;\n",
       "    }\n",
       "\n",
       "    .dataframe thead th {\n",
       "        text-align: right;\n",
       "    }\n",
       "</style>\n",
       "<table border=\"1\" class=\"dataframe\">\n",
       "  <thead>\n",
       "    <tr style=\"text-align: right;\">\n",
       "      <th></th>\n",
       "      <th>order delivery time</th>\n",
       "      <th>order id</th>\n",
       "      <th>customer order rating</th>\n",
       "      <th>type of issue reported</th>\n",
       "      <th>region</th>\n",
       "    </tr>\n",
       "  </thead>\n",
       "  <tbody>\n",
       "    <tr>\n",
       "      <th>14112</th>\n",
       "      <td>2014-05-01 11:51:01</td>\n",
       "      <td>220806</td>\n",
       "      <td>1</td>\n",
       "      <td>Damaged or spoiled</td>\n",
       "      <td>sf</td>\n",
       "    </tr>\n",
       "    <tr>\n",
       "      <th>14113</th>\n",
       "      <td>2014-05-01 11:51:01</td>\n",
       "      <td>220806</td>\n",
       "      <td>1</td>\n",
       "      <td>Damaged or spoiled</td>\n",
       "      <td>sf</td>\n",
       "    </tr>\n",
       "    <tr>\n",
       "      <th>14114</th>\n",
       "      <td>2014-05-01 11:51:01</td>\n",
       "      <td>220806</td>\n",
       "      <td>1</td>\n",
       "      <td>Poor service</td>\n",
       "      <td>sf</td>\n",
       "    </tr>\n",
       "  </tbody>\n",
       "</table>\n",
       "</div>"
      ],
      "text/plain": [
       "       order delivery time  order id  customer order rating  \\\n",
       "14112  2014-05-01 11:51:01    220806                      1   \n",
       "14113  2014-05-01 11:51:01    220806                      1   \n",
       "14114  2014-05-01 11:51:01    220806                      1   \n",
       "\n",
       "      type of issue reported region  \n",
       "14112     Damaged or spoiled     sf  \n",
       "14113     Damaged or spoiled     sf  \n",
       "14114           Poor service     sf  "
      ]
     },
     "execution_count": 1054,
     "metadata": {},
     "output_type": "execute_result"
    }
   ],
   "source": [
    "oid = ins['order id']\n",
    "dup = ins[oid.isin(oid[oid.duplicated()])].sort_values(by=['order id'])\n",
    "dup.head(30)\n",
    "dup[25:28]"
   ]
  },
  {
   "cell_type": "markdown",
   "metadata": {},
   "source": [
    "##### ~8% of all order ids are duplicate. Some single order (e.g. order id: 220806) has different issue types. Since current app interface doesn’t enable reporting multiple issues, such records will be treated as mis-recorded info and be de-duped. \n",
    "\n",
    "##### Duplicate orders with multiple ratings are treated as a case of user's in-app rating correction and therefore are de-duped only by keeping the latest."
   ]
  },
  {
   "cell_type": "code",
   "execution_count": 1055,
   "metadata": {},
   "outputs": [
    {
     "data": {
      "text/plain": [
       "14957"
      ]
     },
     "execution_count": 1055,
     "metadata": {},
     "output_type": "execute_result"
    }
   ],
   "source": [
    "len(ins)"
   ]
  },
  {
   "cell_type": "code",
   "execution_count": 1056,
   "metadata": {},
   "outputs": [],
   "source": [
    "ins.sort_values('order delivery time', inplace=True) \n",
    "ins.drop_duplicates(['order id'], keep='last',inplace=True)"
   ]
  },
  {
   "cell_type": "code",
   "execution_count": 1057,
   "metadata": {},
   "outputs": [
    {
     "data": {
      "text/plain": [
       "13845"
      ]
     },
     "execution_count": 1057,
     "metadata": {},
     "output_type": "execute_result"
    }
   ],
   "source": [
    "len(ins)"
   ]
  },
  {
   "cell_type": "markdown",
   "metadata": {},
   "source": [
    "## Feature Extraction\n",
    "##### Create a \"issue flag\" that has 1 for orders with issue and 0 for no issue;\n",
    "##### Create additional columns \"order date\", \"hour of day\", \"day of week\", \"weekday number\" and \"weekend flag\" from \"order delivery time\"; We also add another variable \"time of day\" by grouping hours of day into \"morning\", \"afternoon\" and \"night\". Theoretically we could group it using dimension reduction as well, coupling with some meaningful metrics that can explain its variation."
   ]
  },
  {
   "cell_type": "code",
   "execution_count": 1032,
   "metadata": {},
   "outputs": [
    {
     "data": {
      "text/html": [
       "<div>\n",
       "<style scoped>\n",
       "    .dataframe tbody tr th:only-of-type {\n",
       "        vertical-align: middle;\n",
       "    }\n",
       "\n",
       "    .dataframe tbody tr th {\n",
       "        vertical-align: top;\n",
       "    }\n",
       "\n",
       "    .dataframe thead th {\n",
       "        text-align: right;\n",
       "    }\n",
       "</style>\n",
       "<table border=\"1\" class=\"dataframe\">\n",
       "  <thead>\n",
       "    <tr style=\"text-align: right;\">\n",
       "      <th></th>\n",
       "      <th>customer order rating</th>\n",
       "      <th>type of issue reported</th>\n",
       "      <th>region</th>\n",
       "      <th>order date</th>\n",
       "      <th>orders</th>\n",
       "      <th>day of week</th>\n",
       "      <th>hour of day</th>\n",
       "      <th>time of day</th>\n",
       "      <th>weekday number</th>\n",
       "      <th>weekend flag</th>\n",
       "      <th>issue flag</th>\n",
       "    </tr>\n",
       "  </thead>\n",
       "  <tbody>\n",
       "    <tr>\n",
       "      <th>14785</th>\n",
       "      <td>2</td>\n",
       "      <td>No issue</td>\n",
       "      <td>sf</td>\n",
       "      <td>2014-05-01</td>\n",
       "      <td>1</td>\n",
       "      <td>Thursday</td>\n",
       "      <td>1</td>\n",
       "      <td>Morning &amp; Noon</td>\n",
       "      <td>4</td>\n",
       "      <td>0</td>\n",
       "      <td>0</td>\n",
       "    </tr>\n",
       "    <tr>\n",
       "      <th>14666</th>\n",
       "      <td>3</td>\n",
       "      <td>Poor service</td>\n",
       "      <td>sf</td>\n",
       "      <td>2014-05-01</td>\n",
       "      <td>1</td>\n",
       "      <td>Thursday</td>\n",
       "      <td>2</td>\n",
       "      <td>Morning &amp; Noon</td>\n",
       "      <td>4</td>\n",
       "      <td>0</td>\n",
       "      <td>1</td>\n",
       "    </tr>\n",
       "    <tr>\n",
       "      <th>14783</th>\n",
       "      <td>2</td>\n",
       "      <td>Wrong item</td>\n",
       "      <td>sf</td>\n",
       "      <td>2014-05-01</td>\n",
       "      <td>1</td>\n",
       "      <td>Thursday</td>\n",
       "      <td>8</td>\n",
       "      <td>Morning &amp; Noon</td>\n",
       "      <td>4</td>\n",
       "      <td>0</td>\n",
       "      <td>1</td>\n",
       "    </tr>\n",
       "  </tbody>\n",
       "</table>\n",
       "</div>"
      ],
      "text/plain": [
       "       customer order rating type of issue reported region  order date  \\\n",
       "14785                      2               No issue     sf  2014-05-01   \n",
       "14666                      3           Poor service     sf  2014-05-01   \n",
       "14783                      2             Wrong item     sf  2014-05-01   \n",
       "\n",
       "       orders day of week  hour of day     time of day  weekday number  \\\n",
       "14785       1    Thursday            1  Morning & Noon               4   \n",
       "14666       1    Thursday            2  Morning & Noon               4   \n",
       "14783       1    Thursday            8  Morning & Noon               4   \n",
       "\n",
       "       weekend flag  issue flag  \n",
       "14785             0           0  \n",
       "14666             0           1  \n",
       "14783             0           1  "
      ]
     },
     "execution_count": 1032,
     "metadata": {},
     "output_type": "execute_result"
    }
   ],
   "source": [
    "ins['order delivery time'] = pd.to_datetime(ins['order delivery time'])\n",
    "ins['order date'] = ins['order delivery time'].dt.date\n",
    "ins['orders']= 1\n",
    "ins['day of week'] = ins['order delivery time'].dt.day_name()\n",
    "ins['hour of day'] = ins['order delivery time'].dt.hour\n",
    "ins['time of day'] = pd.cut(ins['hour of day'],[0,13,17,24],labels=['Morning & Noon','Afternoon','Night'])\n",
    "ins['weekday number'] = ins['order delivery time'].dt.dayofweek + 1\n",
    "ins['weekend flag'] = ins['weekday number'] // 6\n",
    "ins['type of issue reported'] = ins['type of issue reported'].fillna('No issue')\n",
    "ins['issue flag'] = (ins['type of issue reported']!='No issue').astype(int)\n",
    "ins = ins.drop(['order delivery time','order id'],axis=1)\n",
    "ins.head(3)"
   ]
  },
  {
   "cell_type": "markdown",
   "metadata": {},
   "source": [
    "## Exploratory Data Analysis\n",
    "### Explore data to get basic insights:"
   ]
  },
  {
   "cell_type": "code",
   "execution_count": 1033,
   "metadata": {},
   "outputs": [
    {
     "data": {
      "text/html": [
       "<div>\n",
       "<style scoped>\n",
       "    .dataframe tbody tr th:only-of-type {\n",
       "        vertical-align: middle;\n",
       "    }\n",
       "\n",
       "    .dataframe tbody tr th {\n",
       "        vertical-align: top;\n",
       "    }\n",
       "\n",
       "    .dataframe thead th {\n",
       "        text-align: right;\n",
       "    }\n",
       "</style>\n",
       "<table border=\"1\" class=\"dataframe\">\n",
       "  <thead>\n",
       "    <tr style=\"text-align: right;\">\n",
       "      <th></th>\n",
       "      <th>customer order rating</th>\n",
       "      <th>orders</th>\n",
       "      <th>hour of day</th>\n",
       "      <th>weekday number</th>\n",
       "      <th>weekend flag</th>\n",
       "      <th>issue flag</th>\n",
       "    </tr>\n",
       "  </thead>\n",
       "  <tbody>\n",
       "    <tr>\n",
       "      <th>count</th>\n",
       "      <td>13845.000000</td>\n",
       "      <td>13845.0</td>\n",
       "      <td>13845.000000</td>\n",
       "      <td>13845.000000</td>\n",
       "      <td>13845.000000</td>\n",
       "      <td>13845.000000</td>\n",
       "    </tr>\n",
       "    <tr>\n",
       "      <th>mean</th>\n",
       "      <td>4.582232</td>\n",
       "      <td>1.0</td>\n",
       "      <td>15.699025</td>\n",
       "      <td>4.199567</td>\n",
       "      <td>0.345540</td>\n",
       "      <td>0.061972</td>\n",
       "    </tr>\n",
       "    <tr>\n",
       "      <th>std</th>\n",
       "      <td>0.968279</td>\n",
       "      <td>0.0</td>\n",
       "      <td>3.749206</td>\n",
       "      <td>2.106106</td>\n",
       "      <td>0.475561</td>\n",
       "      <td>0.241113</td>\n",
       "    </tr>\n",
       "    <tr>\n",
       "      <th>min</th>\n",
       "      <td>0.000000</td>\n",
       "      <td>1.0</td>\n",
       "      <td>0.000000</td>\n",
       "      <td>1.000000</td>\n",
       "      <td>0.000000</td>\n",
       "      <td>0.000000</td>\n",
       "    </tr>\n",
       "    <tr>\n",
       "      <th>25%</th>\n",
       "      <td>5.000000</td>\n",
       "      <td>1.0</td>\n",
       "      <td>13.000000</td>\n",
       "      <td>2.000000</td>\n",
       "      <td>0.000000</td>\n",
       "      <td>0.000000</td>\n",
       "    </tr>\n",
       "    <tr>\n",
       "      <th>50%</th>\n",
       "      <td>5.000000</td>\n",
       "      <td>1.0</td>\n",
       "      <td>16.000000</td>\n",
       "      <td>4.000000</td>\n",
       "      <td>0.000000</td>\n",
       "      <td>0.000000</td>\n",
       "    </tr>\n",
       "    <tr>\n",
       "      <th>75%</th>\n",
       "      <td>5.000000</td>\n",
       "      <td>1.0</td>\n",
       "      <td>19.000000</td>\n",
       "      <td>6.000000</td>\n",
       "      <td>1.000000</td>\n",
       "      <td>0.000000</td>\n",
       "    </tr>\n",
       "    <tr>\n",
       "      <th>max</th>\n",
       "      <td>5.000000</td>\n",
       "      <td>1.0</td>\n",
       "      <td>23.000000</td>\n",
       "      <td>7.000000</td>\n",
       "      <td>1.000000</td>\n",
       "      <td>1.000000</td>\n",
       "    </tr>\n",
       "  </tbody>\n",
       "</table>\n",
       "</div>"
      ],
      "text/plain": [
       "       customer order rating   orders   hour of day  weekday number  \\\n",
       "count           13845.000000  13845.0  13845.000000    13845.000000   \n",
       "mean                4.582232      1.0     15.699025        4.199567   \n",
       "std                 0.968279      0.0      3.749206        2.106106   \n",
       "min                 0.000000      1.0      0.000000        1.000000   \n",
       "25%                 5.000000      1.0     13.000000        2.000000   \n",
       "50%                 5.000000      1.0     16.000000        4.000000   \n",
       "75%                 5.000000      1.0     19.000000        6.000000   \n",
       "max                 5.000000      1.0     23.000000        7.000000   \n",
       "\n",
       "       weekend flag    issue flag  \n",
       "count  13845.000000  13845.000000  \n",
       "mean       0.345540      0.061972  \n",
       "std        0.475561      0.241113  \n",
       "min        0.000000      0.000000  \n",
       "25%        0.000000      0.000000  \n",
       "50%        0.000000      0.000000  \n",
       "75%        1.000000      0.000000  \n",
       "max        1.000000      1.000000  "
      ]
     },
     "execution_count": 1033,
     "metadata": {},
     "output_type": "execute_result"
    }
   ],
   "source": [
    "ins.describe()"
   ]
  },
  {
   "cell_type": "markdown",
   "metadata": {},
   "source": [
    "##### The above table shows that average rating 4.58 is pretty high, with majorly of the orders (at least more than 75% percentiles) having a 5-star rating. But we'll need to break down further to see how it correlates with order problems/issues and other factors. Mean hour of day for delivery is around 4pm, but that might not be the real typical hour for deliveries because this could be the evened-out result from noon and evening peaks. We'll confirm later by plotting it out."
   ]
  },
  {
   "cell_type": "code",
   "execution_count": 1034,
   "metadata": {},
   "outputs": [
    {
     "data": {
      "text/plain": [
       "<matplotlib.axes._subplots.AxesSubplot at 0x1a35af40b8>"
      ]
     },
     "execution_count": 1034,
     "metadata": {},
     "output_type": "execute_result"
    },
    {
     "data": {
      "image/png": "[encoded data removed]",
      "text/plain": [
       "<Figure size 432x288 with 1 Axes>"
      ]
     },
     "metadata": {},
     "output_type": "display_data"
    }
   ],
   "source": [
    "sns.countplot(x='customer order rating',data=ins,palette='RdYlGn')"
   ]
  },
  {
   "cell_type": "markdown",
   "metadata": {},
   "source": [
    "##### 0-star ratings are not likely. After breaking it down by issue types, we find very few of them have issue. So we infer that 0 ratings could come out of some mis-coding during data transmission. We can either trim them out or combine them with 5-star ratings since they really look like healthy orders in nature. Here we choose to trim them out since the amount is too low and wouldn't affect the analysis much."
   ]
  },
  {
   "cell_type": "code",
   "execution_count": 1035,
   "metadata": {},
   "outputs": [],
   "source": [
    "ins = ins[ins['customer order rating'] != 0]"
   ]
  },
  {
   "cell_type": "markdown",
   "metadata": {},
   "source": [
    "### Time of Day Analysis on Deliveries:"
   ]
  },
  {
   "cell_type": "markdown",
   "metadata": {},
   "source": [
    "##### Now we split data by weekend vs weekday to see difference in purchase pattern. Since order placed time is not available, order delivery time will be used as a proxy to infer."
   ]
  },
  {
   "cell_type": "code",
   "execution_count": 1036,
   "metadata": {},
   "outputs": [],
   "source": [
    "ins_wknd = ins[(ins['weekend flag']==1)]\n",
    "ins_wkdy = ins[(ins['weekend flag']==0)]"
   ]
  },
  {
   "cell_type": "code",
   "execution_count": 1037,
   "metadata": {},
   "outputs": [
    {
     "data": {
      "image/png": "[encoded data removed]",
      "text/plain": [
       "<Figure size 1008x360 with 2 Axes>"
      ]
     },
     "metadata": {},
     "output_type": "display_data"
    }
   ],
   "source": [
    "fig, ax =plt.subplots(1,2,figsize=(14,5))\n",
    "ax[0]=sns.countplot(x='hour of day',data=ins_wkdy, ax = ax[0])\n",
    "ax[0].set_title('Orders Deliveries by Hour of Day (Weekday Only)')\n",
    "ax[0].set(ylabel='# orders')\n",
    "\n",
    "ax[1]=sns.countplot(x='hour of day',data=ins_wknd,ax=ax[1])\n",
    "ax[1].set_title('Orders Deliveries by Hour of Day (Weekend Only)')\n",
    "ax[1].set(ylabel='# orders')\n",
    "\n",
    "fig.show()"
   ]
  },
  {
   "cell_type": "markdown",
   "metadata": {},
   "source": [
    "##### It seems that customers love to have their groceries arrived not too early, not too late, but just on time before the cooking start. How do we know? \n",
    "##### From the two charts above, we can see that the typical hour of day people have their groceries delivered is 6~7pm on weekday, and 1pm and 5~7pm on weekend. This makes sense because majority of our customers will probably have lunch at work on weekdays and only need groceries delivered around dinner time. On weekend, on the other hand, they may place orders around noon for lunch cooking as well. \n",
    "\n",
    "##### It's also clear that on weekdays, our customer typically place orders 2 hours later than they do on weekend. The peak hour for deliveries is 7pm for weekdays vs. 5pm for weekends. This could be because many of them come home later from work and may want to make sure that when the groceries arrive, they can be at home readily to open doors, etc."
   ]
  },
  {
   "cell_type": "markdown",
   "metadata": {},
   "source": [
    "### Day of Week Analysis on Deliveries:"
   ]
  },
  {
   "cell_type": "code",
   "execution_count": 1038,
   "metadata": {},
   "outputs": [
    {
     "data": {
      "image/png": "[encoded data removed]",
      "text/plain": [
       "<Figure size 432x288 with 1 Axes>"
      ]
     },
     "metadata": {},
     "output_type": "display_data"
    }
   ],
   "source": [
    "ax = sns.countplot(x='weekday number',data=ins,palette='rocket')\n",
    "ax.set_title('Orders by Day of Week')\n",
    "ax.set(ylabel='# orders')\n",
    "plt.show()"
   ]
  },
  {
   "cell_type": "markdown",
   "metadata": {},
   "source": [
    "##### The above chart shows weekly seasonality of orders volume, which presents a weekly recurrent curve with Sunday as peak and Wednesday as trough. We are seeing nearly twice as many orders on Sunday compared to Wednesday."
   ]
  },
  {
   "cell_type": "markdown",
   "metadata": {},
   "source": [
    "### Most common problems with orders:"
   ]
  },
  {
   "cell_type": "code",
   "execution_count": 1039,
   "metadata": {},
   "outputs": [],
   "source": [
    "ins_issue = ins[ins['issue flag']==1]"
   ]
  },
  {
   "cell_type": "code",
   "execution_count": 1040,
   "metadata": {},
   "outputs": [
    {
     "data": {
      "image/png": "[encoded data removed]",
      "text/plain": [
       "<Figure size 432x288 with 1 Axes>"
      ]
     },
     "metadata": {},
     "output_type": "display_data"
    }
   ],
   "source": [
    "rnk = ins_issue['type of issue reported'].value_counts()\n",
    "ax = sns.countplot(y='type of issue reported',data=ins_issue, orient='h',palette='rainbow',order=rnk.index)\n",
    "ax.set_title('Orders by Issue Type')\n",
    "ax.set(xlabel='# orders')\n",
    "ax.set(ylabel='')\n",
    "plt.show()"
   ]
  },
  {
   "cell_type": "markdown",
   "metadata": {},
   "source": [
    "##### Among all problems with orders, we see that the highest occurrent is Wrong item, followed by Damanged items. However, more importantly, we want to know what problems upset our customers the most. That is, what problems we need to focus on fixing so that our customers are happier. Therefore, we want to look at correlations between Issue Type and Order Ratings."
   ]
  },
  {
   "cell_type": "markdown",
   "metadata": {},
   "source": [
    "## Deep dives and Recommendations\n",
    "### Issue Type vs. Rating: What Upsets Customers The Most?"
   ]
  },
  {
   "cell_type": "code",
   "execution_count": 1041,
   "metadata": {},
   "outputs": [
    {
     "data": {
      "image/png": "[encoded data removed]",
      "text/plain": [
       "<Figure size 432x288 with 1 Axes>"
      ]
     },
     "metadata": {},
     "output_type": "display_data"
    }
   ],
   "source": [
    "ax = sns.boxplot(y='type of issue reported',x='customer order rating',data=ins_issue, orient='h', palette='rainbow')\n",
    "ax.set_title('What Upsets Customers The Most?')\n",
    "plt.show()"
   ]
  },
  {
   "cell_type": "markdown",
   "metadata": {},
   "source": [
    "##### It seems that the #1 factor customers value is service. We can see that although wrong/damaged items rank as most commonly reported issues, they are not linked closely with customer satisfaction. The real deal breaker is still service."
   ]
  },
  {
   "cell_type": "markdown",
   "metadata": {},
   "source": [
    "### Make assumptions and calculate Issue-Ticket Ratio\n",
    "##### We assume that with the current in-app setting, reporting certain types of issue will automatically trigger the creation of a ticket in the system, while the remaining types of issue will not. Then, we can use the table below to actually calculate Issue-Ticket Ratio."
   ]
  },
  {
   "cell_type": "code",
   "execution_count": 1042,
   "metadata": {},
   "outputs": [
    {
     "data": {
      "text/html": [
       "<div>\n",
       "<style scoped>\n",
       "    .dataframe tbody tr th:only-of-type {\n",
       "        vertical-align: middle;\n",
       "    }\n",
       "\n",
       "    .dataframe tbody tr th {\n",
       "        vertical-align: top;\n",
       "    }\n",
       "\n",
       "    .dataframe thead th {\n",
       "        text-align: right;\n",
       "    }\n",
       "</style>\n",
       "<table border=\"1\" class=\"dataframe\">\n",
       "  <thead>\n",
       "    <tr style=\"text-align: right;\">\n",
       "      <th></th>\n",
       "      <th>type of issue reported</th>\n",
       "      <th>type of issue reported</th>\n",
       "    </tr>\n",
       "  </thead>\n",
       "  <tbody>\n",
       "    <tr>\n",
       "      <th>Wrong item</th>\n",
       "      <td>295</td>\n",
       "      <td>0.345029</td>\n",
       "    </tr>\n",
       "    <tr>\n",
       "      <th>Damaged or spoiled</th>\n",
       "      <td>231</td>\n",
       "      <td>0.270175</td>\n",
       "    </tr>\n",
       "    <tr>\n",
       "      <th>Item missing</th>\n",
       "      <td>151</td>\n",
       "      <td>0.176608</td>\n",
       "    </tr>\n",
       "    <tr>\n",
       "      <th>Poor service</th>\n",
       "      <td>99</td>\n",
       "      <td>0.115789</td>\n",
       "    </tr>\n",
       "    <tr>\n",
       "      <th>Poor replacement</th>\n",
       "      <td>43</td>\n",
       "      <td>0.050292</td>\n",
       "    </tr>\n",
       "    <tr>\n",
       "      <th>Other Order Issue</th>\n",
       "      <td>19</td>\n",
       "      <td>0.022222</td>\n",
       "    </tr>\n",
       "    <tr>\n",
       "      <th>Item charged incorrectly</th>\n",
       "      <td>17</td>\n",
       "      <td>0.019883</td>\n",
       "    </tr>\n",
       "  </tbody>\n",
       "</table>\n",
       "</div>"
      ],
      "text/plain": [
       "                          type of issue reported  type of issue reported\n",
       "Wrong item                                   295                0.345029\n",
       "Damaged or spoiled                           231                0.270175\n",
       "Item missing                                 151                0.176608\n",
       "Poor service                                  99                0.115789\n",
       "Poor replacement                              43                0.050292\n",
       "Other Order Issue                             19                0.022222\n",
       "Item charged incorrectly                      17                0.019883"
      ]
     },
     "execution_count": 1042,
     "metadata": {},
     "output_type": "execute_result"
    }
   ],
   "source": [
    "pd.concat([rnk, ins_issue['type of issue reported'].value_counts(normalize=True)],axis=1)"
   ]
  },
  {
   "cell_type": "markdown",
   "metadata": {},
   "source": [
    "##### Let's say \"Wrong item\", \"Item missing\", \"Damaged or spoiled\", \"Item charged incorrectly\" are the four reasons that needs instant examination from a CS rep, while the other types of issue can be subjective and therefore may or may not be easily examined and fixed, so they will not auto-generate tickets unless a customer place one (likelihood = 15%). The formula goes as below:\n",
    "\n",
    "* Issue-Ticket Ratio = (0.35 + 0.27 + 0.18 + 0.02) x 100% + (0.12 + 0.05 + 0.02) x 15% = 0.85\n",
    "\n",
    "##### We can conclude that 85% of orders with issue reported will generate a CS ticket."
   ]
  },
  {
   "cell_type": "markdown",
   "metadata": {},
   "source": [
    "### Map out peak hours as guidance for customer service reps on work shifts planning"
   ]
  },
  {
   "cell_type": "markdown",
   "metadata": {},
   "source": [
    "##### Below we trimmed out downtime and only look at deliveries at the prime hours, which is from 9am to 9pm."
   ]
  },
  {
   "cell_type": "code",
   "execution_count": 1043,
   "metadata": {},
   "outputs": [],
   "source": [
    "ins_prime = ins[(ins['hour of day']>=9) & (ins['hour of day']<=21)]\n",
    "ins_issue_prime = ins_issue[(ins_issue['hour of day']>=9) & (ins_issue['hour of day']<=21)]\n",
    "\n",
    "gp_ins_prime = ins_prime.groupby(['weekday number','hour of day']).sum()[['customer order rating','orders','issue flag']]\n",
    "gp_ins_prime['problem orders']=gp_ins_prime['issue flag']\n",
    "gp_ins_prime['sum rating on problem orders'] = ins_issue_prime.groupby(['weekday number','hour of day']).sum()[['customer order rating']]\n",
    "gp_ins_prime['avg rating']=round(gp_ins_prime['customer order rating']/gp_ins_prime['orders'],2)\n",
    "gp_ins_prime['avg rating on problem orders'] = round(gp_ins_prime['sum rating on problem orders']/gp_ins_prime['issue flag'],2)\n",
    "gp_ins_prime['issue rate'] = round(gp_ins_prime['problem orders']/gp_ins_prime['orders'],2)\n",
    "\n",
    "gp_ins_prime = gp_ins_prime.drop(['customer order rating','sum rating on problem orders','issue flag'],axis=1)"
   ]
  },
  {
   "cell_type": "code",
   "execution_count": 1044,
   "metadata": {},
   "outputs": [],
   "source": [
    "pv_ords = gp_ins_prime.pivot_table(values='problem orders',index='weekday number',columns='hour of day')\n",
    "pv_rate = gp_ins_prime.pivot_table(values='issue rate',index='weekday number',columns='hour of day')\n",
    "pv_rating = gp_ins_prime.pivot_table(values='avg rating on problem orders',index='weekday number',columns='hour of day')"
   ]
  },
  {
   "cell_type": "code",
   "execution_count": 1045,
   "metadata": {},
   "outputs": [
    {
     "data": {
      "image/png": "[encoded data removed]",
      "text/plain": [
       "<Figure size 1584x360 with 6 Axes>"
      ]
     },
     "metadata": {},
     "output_type": "display_data"
    }
   ],
   "source": [
    "fig, ax=plt.subplots(1,3,figsize=(22,5))\n",
    "ax[0] = sns.heatmap(pv_ords/4,cmap='magma_r',fmt='.0f',linecolor='white',linewidths=1, ax= ax[0])\n",
    "ax[0].set_title('Issue Occurrence Intensity across Hour and Day')\n",
    "ax[1] = sns.heatmap(pv_rating,cmap='magma',linecolor='white',linewidths=1,annot=True, ax = ax[1])\n",
    "ax[1].set_title('Avg Rating on Problem Orders across Hour and Day')\n",
    "ax[2] = sns.heatmap(pv_rate,cmap='magma_r',fmt='.0%',linecolor='white',linewidths=1,annot=True, ax= ax[2])\n",
    "ax[2].set_title('Issue Occurrence Rate across Hour and Day')\n",
    "fig.show()"
   ]
  },
  {
   "cell_type": "markdown",
   "metadata": {},
   "source": [
    "##### We can use the heat maps above to alert Customer Service Reps that at some specific weekday and hour, they can expect to see higher number of issues (heatmap #1), or orders are more likely to go wrong (heatmap #3), or customers are more likely to give very negative ratings (heatmap #2). The three heatmaps are in nature correlated to some extent and can be used together as a good indicator on customer satisfaction and help CS reps to predict and prepare for high call volume.\n",
    "##### There are some interesting findings we can get from reading the heatmap. For example, 6pm Sunday is the time when more orders go wrong;  \n",
    "##### Customers tend to give out lower ratings on after-work deliveries in the very middle of the week, Tuesday and Wednesday. This could be associated with stress level of both buyers and shoppers, but we'd have to look at more data to validate; \n",
    "##### We want to see more lighter blocks vs. the darker ones. Customer Service Reps should anticipate busiest time around those darkest blocks and adjust their shifts accordingly to meet the needs."
   ]
  }
 ],
 "metadata": {
  "kernelspec": {
   "display_name": "Python 3",
   "language": "python",
   "name": "python3"
  },
  "language_info": {
   "codemirror_mode": {
    "name": "ipython",
    "version": 3
   },
   "file_extension": ".py",
   "mimetype": "text/x-python",
   "name": "python",
   "nbconvert_exporter": "python",
   "pygments_lexer": "ipython3",
   "version": "3.6.5"
  }
 },
 "nbformat": 4,
 "nbformat_minor": 2
}
